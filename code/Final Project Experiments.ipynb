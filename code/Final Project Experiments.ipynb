{
 "cells": [
  {
   "cell_type": "markdown",
   "metadata": {},
   "source": [
    "## Imports, Matplotlib Setup, Auto-Reloading"
   ]
  },
  {
   "cell_type": "code",
   "execution_count": 1,
   "metadata": {
    "collapsed": false
   },
   "outputs": [],
   "source": [
    "from __future__ import division\n",
    "\n",
    "import numpy as np\n",
    "import random\n",
    "import matplotlib.pyplot as plt\n",
    "from scipy.misc import imread, imresize, imshow\n",
    "import cPickle as pickle\n",
    "\n",
    "from discriminator import *\n",
    "from transformer import *\n",
    "from data_utils import *\n",
    "from util import *\n",
    "from solver import *\n",
    "\n",
    "# some setup code\n",
    "%matplotlib inline\n",
    "plt.rcParams['figure.figsize'] = (10.0, 8.0) # set default size of plots\n",
    "plt.rcParams['image.interpolation'] = 'nearest'\n",
    "plt.rcParams['image.cmap'] = 'gray'\n",
    "\n",
    "# for auto-reloading external modules\n",
    "# see http://stackoverflow.com/questions/1907993/autoreload-of-modules-in-ipython\n",
    "%load_ext autoreload\n",
    "%autoreload 2"
   ]
  },
  {
   "cell_type": "markdown",
   "metadata": {},
   "source": [
    "## Loading CIFAR-10 Data"
   ]
  },
  {
   "cell_type": "code",
   "execution_count": 23,
   "metadata": {
    "collapsed": false
   },
   "outputs": [
    {
     "name": "stdout",
     "output_type": "stream",
     "text": [
      "training dataset shapes: (5000, 3, 32, 32) (5000,)\n",
      "validation dataset shapes: (1000, 3, 32, 32) (1000,)\n",
      "testing dataset shapes: (1000, 3, 32, 32) (1000,)\n"
     ]
    }
   ],
   "source": [
    "# Load the (preprocessed) CIFAR10 data.\n",
    "data = get_CIFAR10_data()\n",
    "\n",
    "# flag as to whether to use full or small dataset\n",
    "full_data = False\n",
    "\n",
    "# unpack CIFAR data\n",
    "if full_data:\n",
    "    X_train, y_train = data['X_train'], data['y_train']\n",
    "else:\n",
    "    X_train, y_train = data['X_train'][:5000], data['y_train'][:5000]\n",
    "    \n",
    "X_val, y_val = data['X_val'], data['y_val']\n",
    "X_test, y_test = data['X_test'], data['y_test']\n",
    "\n",
    "print 'training dataset shapes:', X_train.shape, y_train.shape\n",
    "print 'validation dataset shapes:', X_val.shape, y_val.shape\n",
    "print 'testing dataset shapes:', X_test.shape, y_test.shape\n",
    "\n",
    "data = { \n",
    "    'X_train' : X_train,\n",
    "    'y_train' : y_train,\n",
    "    'X_val' : X_val,\n",
    "    'y_val' : y_val\n",
    "    }"
   ]
  },
  {
   "cell_type": "markdown",
   "metadata": {},
   "source": [
    "## Creating Transformer and Discriminator Objects"
   ]
  },
  {
   "cell_type": "code",
   "execution_count": 25,
   "metadata": {
    "collapsed": false
   },
   "outputs": [
    {
     "name": "stdout",
     "output_type": "stream",
     "text": [
      "(Iteration 1 / 99) loss: 7.423170\n",
      "(Epoch 0 / 3) train acc: 0.242000; val_acc: 0.247000\n",
      "(Iteration 11 / 99) loss: 7.356330\n",
      "(Iteration 21 / 99) loss: 7.596392\n",
      "(Iteration 31 / 99) loss: 7.984423\n",
      "(Epoch 1 / 3) train acc: 0.535000; val_acc: 0.437000\n",
      "(Iteration 41 / 99) loss: 8.018458\n",
      "(Iteration 51 / 99) loss: 8.062018\n",
      "(Iteration 61 / 99) loss: 8.209277\n",
      "(Epoch 2 / 3) train acc: 0.652000; val_acc: 0.480000\n",
      "(Iteration 71 / 99) loss: 8.286196\n",
      "(Iteration 81 / 99) loss: 8.611575\n",
      "(Iteration 91 / 99) loss: 8.597947\n",
      "(Epoch 3 / 3) train acc: 0.764000; val_acc: 0.506000\n"
     ]
    }
   ],
   "source": [
    "# create transformer / discriminator objects\n",
    "transformer = Transformer()\n",
    "\n",
    "# if we have a trained model saved\n",
    "if False: # os.path.isfile('../models/discrim.p'):\n",
    "    # load it from the pickle file\n",
    "    discriminator = pickle.load(open('../models/discrim.p', 'rb'))\n",
    "else:\n",
    "    # create a new discriminator object\n",
    "    discriminator = Discriminator(reg=1.5e-3, weight_scale=3.25e-2, num_filters=32, hidden_dim=750)\n",
    "    \n",
    "    # create a solver object to do the training\n",
    "    solver = Solver(discriminator, data, num_epochs=3, batch_size=150, update_rule='adam', optim_config={'learning_rate': 3.2e-3}, verbose=True)\n",
    "    \n",
    "    # train the discriminator on the CIFAR-10 data as in assignment 2\n",
    "    solver.train()\n",
    "    \n",
    "    # persist the model using pickle\n",
    "    pickle.dump(discriminator, open('../models/discrim.p', 'wb'))"
   ]
  },
  {
   "cell_type": "markdown",
   "metadata": {},
   "source": [
    "## Training Adversarial Pair"
   ]
  },
  {
   "cell_type": "code",
   "execution_count": 26,
   "metadata": {
    "collapsed": false
   },
   "outputs": [
    {
     "name": "stdout",
     "output_type": "stream",
     "text": [
      "Iteration 1 / 50\n",
      "Discriminator training loss: 8.68143151863\n",
      "Discriminator loss on fake data: 19.9547344059\n",
      "Transformer loss (?) -2.99346642876\n",
      "Iteration 11 / 50\n",
      "Discriminator training loss: 8.90442220358\n",
      "Discriminator loss on fake data: 14.7042176823\n",
      "Transformer loss (?) -2.6881343698\n",
      "Iteration 21 / 50\n",
      "Discriminator training loss: 9.02829366045\n",
      "Discriminator loss on fake data: 11.3593081757\n",
      "Transformer loss (?) -2.43003751141\n",
      "Iteration 31 / 50\n",
      "Discriminator training loss: 9.09866067993\n",
      "Discriminator loss on fake data: 9.21526326778\n",
      "Transformer loss (?) -2.2208611602\n",
      "Iteration 41 / 50\n",
      "Discriminator training loss: 9.30821560036\n",
      "Discriminator loss on fake data: 8.75557326709\n",
      "Transformer loss (?) -2.16969044242\n"
     ]
    }
   ],
   "source": [
    "# store training dataset range, size\n",
    "train_range = range(len(X_train))\n",
    "\n",
    "# batch size\n",
    "batch_size = 100\n",
    "\n",
    "# number of epochs, iterations per epoch, iterations\n",
    "n_epochs = 1\n",
    "iters_per_epoch = int( max(len(X_train) / batch_size, 1) )\n",
    "n_iters = n_epochs * iters_per_epoch\n",
    "\n",
    "# hyperparameters\n",
    "update_rule = getattr(optim, 'adam')\n",
    "discriminator_optim_config = {}\n",
    "transformer_optim_config = {}\n",
    "\n",
    "# making copies of optim_config for each parameter\n",
    "discriminator_optim_configs = {}\n",
    "for p in discriminator.params:\n",
    "    d = {k: v for k, v in discriminator_optim_config.iteritems()}\n",
    "    discriminator_optim_configs[p] = d\n",
    "    \n",
    "# making copies of optim_config for each parameter\n",
    "transformer_optim_configs = {}\n",
    "for p in discriminator.params:\n",
    "    d = {k: v for k, v in transformer_optim_config.iteritems()}\n",
    "    transformer_optim_configs[p] = d\n",
    "\n",
    "print_every = 10\n",
    "\n",
    "for t in range(n_iters):\n",
    "    if t % print_every == 0:\n",
    "        print 'Iteration %d / %d' % (t + 1, n_iters)\n",
    "    \n",
    "    ########################\n",
    "    # UPDATE DISCRIMINATOR #\n",
    "    ########################\n",
    "    \n",
    "    # choose a minibatch of images from the training set and their corresponding label\n",
    "    idxs = np.random.choice(train_range, batch_size)\n",
    "    X, y = X_train[idxs], y_train[idxs]\n",
    "    \n",
    "    # update the discriminator by training it on the selected minibatch\n",
    "    loss, grads = discriminator.loss(X, y)\n",
    "    \n",
    "    if t % print_every == 0:\n",
    "        print 'Discriminator training loss:', loss\n",
    "    \n",
    "    # perform a parameter update\n",
    "    for p, w in discriminator.params.iteritems():\n",
    "        # get associated gradient\n",
    "        dw = grads[p]\n",
    "        # get associated hyperparameters\n",
    "        config = discriminator_optim_configs[p]\n",
    "        # get next weights and next optimization configuration\n",
    "        next_w, next_config = update_rule(w, dw)\n",
    "        # update the parameter's weights\n",
    "        discriminator.params[p] = next_w\n",
    "        # update optimization configuration\n",
    "        discriminator_optim_configs[p] = next_config\n",
    "    \n",
    "    ######################\n",
    "    # UPDATE TRANSFORMER #\n",
    "    ######################\n",
    "    \n",
    "    # choose a minibatch of images from the training set and their corresponding label\n",
    "    idxs = np.random.choice(train_range, batch_size)\n",
    "    X, y = X_train[idxs], y_train[idxs]\n",
    "            \n",
    "    # get the transform of the training data point\n",
    "    transform = transformer.forward(X)\n",
    "    transform = transform.reshape(X.shape)\n",
    "        \n",
    "    # pass the transform into the discriminator network\n",
    "    loss, grads = discriminator.loss(transform, np.array([10]*batch_size))\n",
    "    \n",
    "    if t % print_every == 0:\n",
    "        print 'Discriminator loss on fake data:', loss\n",
    "    \n",
    "    # perform a parameter update\n",
    "    for p, w in discriminator.params.iteritems():\n",
    "        # get associated gradient\n",
    "        dw = grads[p]\n",
    "        # get associated hyperparameters\n",
    "        config = discriminator_optim_configs[p]\n",
    "        # get next weights and next optimization configuration\n",
    "        next_w, next_config = update_rule(w, dw)\n",
    "        # update the parameter's weights\n",
    "        discriminator.params[p] = next_w\n",
    "        # update optimization configuration\n",
    "        discriminator_optim_configs[p] = next_config\n",
    "        \n",
    "    # backprop loss into transformer\n",
    "    loss, grads = transformer.backward(transform.reshape((transform.shape[0], np.prod(transform.shape[1:]))), loss, grads['dx'].reshape((transform.shape[0], np.prod(transform.shape[1:]))))\n",
    "    \n",
    "    if t % print_every == 0:\n",
    "        print 'Transformer loss (?)', loss    \n",
    "        \n",
    "    # perform a parameter update\n",
    "    for p, w in transformer.params.iteritems():\n",
    "        # get associated gradient\n",
    "        dw = grads[p]\n",
    "        # get associated hyperparameters\n",
    "        config = transformer_optim_configs[p]\n",
    "        # get next weights and next optimization configuration\n",
    "        next_w, next_config = update_rule(w, dw)\n",
    "        # update the parameter's weights\n",
    "        transformer.params[p] = next_w\n",
    "        # update optimization configuration\n",
    "        transformer_optim_configs[p] = next_config"
   ]
  },
  {
   "cell_type": "markdown",
   "metadata": {
    "collapsed": true
   },
   "source": [
    "## Benchmark Accuracy of Discriminatively Trained Model"
   ]
  },
  {
   "cell_type": "code",
   "execution_count": 28,
   "metadata": {
    "collapsed": false
   },
   "outputs": [
    {
     "name": "stdout",
     "output_type": "stream",
     "text": [
      "...finished loading old model\n"
     ]
    },
    {
     "name": "stderr",
     "output_type": "stream",
     "text": [
      "/usr/local/lib/python2.7/dist-packages/numpy/core/_methods.py:59: RuntimeWarning: Mean of empty slice.\n",
      "  warnings.warn(\"Mean of empty slice.\", RuntimeWarning)\n",
      "/usr/local/lib/python2.7/dist-packages/numpy/core/_methods.py:68: RuntimeWarning: invalid value encountered in true_divide\n",
      "  ret, rcount, out=ret, casting='unsafe', subok=False)\n",
      "/usr/local/lib/python2.7/dist-packages/numpy/core/_methods.py:82: RuntimeWarning: Degrees of freedom <= 0 for slice\n",
      "  warnings.warn(\"Degrees of freedom <= 0 for slice\", RuntimeWarning)\n",
      "/usr/local/lib/python2.7/dist-packages/numpy/core/_methods.py:94: RuntimeWarning: invalid value encountered in true_divide\n",
      "  arrmean, rcount, out=arrmean, casting='unsafe', subok=False)\n",
      "/usr/local/lib/python2.7/dist-packages/numpy/core/_methods.py:114: RuntimeWarning: invalid value encountered in true_divide\n",
      "  ret, rcount, out=ret, casting='unsafe', subok=False)\n"
     ]
    },
    {
     "name": "stdout",
     "output_type": "stream",
     "text": [
      "pretrained accuracy: 0.75\n",
      "adversarially trained accuracy: 0.53\n"
     ]
    }
   ],
   "source": [
    "# load our pretrained model\n",
    "old_discriminator = pickle.load(open('../models/discrim.p', 'rb'))\n",
    "\n",
    "print '...finished loading old model'\n",
    "\n",
    "# check accuracy of pretrained model on the validation set\n",
    "\n",
    "# get the number of batches\n",
    "num_batches = int(len(X_val) / batch_size)\n",
    "if len(X_val) % batch_size != 0:\n",
    "  num_batches += 1\n",
    "\n",
    "# get predictions\n",
    "y_pred = []\n",
    "for i in xrange(num_batches):\n",
    "    \n",
    "    # get beginning / end of batch\n",
    "    start = i * batch_size\n",
    "    end = (i + 1) * batch_size\n",
    "    \n",
    "    # get scores from the model\n",
    "    scores = old_discriminator.loss(X[start:end])\n",
    "    \n",
    "    # store the predicted labels from the scores\n",
    "    y_pred.append(np.argmax(scores, axis=1))\n",
    "\n",
    "# calculate the accuracy of the pretrained model on the validation set\n",
    "y_pred = np.hstack(y_pred)\n",
    "print 'pretrained accuracy:', np.mean(y_pred == y)\n",
    "\n",
    "# check accuracy of adversarially trained model on the validation set\n",
    "\n",
    "# get predictions\n",
    "y_pred = []\n",
    "for i in xrange(num_batches):\n",
    "    \n",
    "    # get beginning / end of batch\n",
    "    start = i * batch_size\n",
    "    end = (i + 1) * batch_size\n",
    "    \n",
    "    # get scores from the model\n",
    "    scores = discriminator.loss(X[start:end])\n",
    "    \n",
    "    # store the predicted labels from the scores\n",
    "    y_pred.append(np.argmax(scores, axis=1))\n",
    "\n",
    "# calculate the accuracy of the pretrained model on the validation set\n",
    "y_pred = np.hstack(y_pred)\n",
    "print 'adversarially trained accuracy:', np.mean(y_pred == y)"
   ]
  },
  {
   "cell_type": "code",
   "execution_count": null,
   "metadata": {
    "collapsed": true
   },
   "outputs": [],
   "source": []
  }
 ],
 "metadata": {
  "kernelspec": {
   "display_name": "Python 2",
   "language": "python",
   "name": "python2"
  },
  "language_info": {
   "codemirror_mode": {
    "name": "ipython",
    "version": 2
   },
   "file_extension": ".py",
   "mimetype": "text/x-python",
   "name": "python",
   "nbconvert_exporter": "python",
   "pygments_lexer": "ipython2",
   "version": "2.7.9"
  }
 },
 "nbformat": 4,
 "nbformat_minor": 1
}
